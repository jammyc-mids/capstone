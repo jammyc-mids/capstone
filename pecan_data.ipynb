{
 "cells": [
  {
   "cell_type": "code",
   "execution_count": 1,
   "metadata": {},
   "outputs": [
    {
     "name": "stderr",
     "output_type": "stream",
     "text": [
      "/Users/jq279/.local/lib/python3.9/site-packages/pandas/core/computation/expressions.py:21: UserWarning: Pandas requires version '2.8.4' or newer of 'numexpr' (version '2.7.3' currently installed).\n",
      "  from pandas.core.computation.check import NUMEXPR_INSTALLED\n",
      "/Users/jq279/.local/lib/python3.9/site-packages/pandas/core/arrays/masked.py:60: UserWarning: Pandas requires version '1.3.6' or newer of 'bottleneck' (version '1.3.2' currently installed).\n",
      "  from pandas.core import (\n"
     ]
    }
   ],
   "source": [
    "import pandas as pd\n",
    "import numpy as np\n",
    "import glob"
   ]
  },
  {
   "cell_type": "code",
   "execution_count": 2,
   "metadata": {},
   "outputs": [],
   "source": [
    "path='/Users/jq279/capstone/data/pecan_street/15_min/all_data'\n",
    "pattern_meta = f\"{path}/*meta*.csv\"  # Pattern to match filenames containing \"meta\"\n",
    "pattern_load = f\"{path}/*15minute*.csv\" # List of files matching the pattern\n",
    "files_meta = glob.glob(pattern_meta)\n",
    "files_load = glob.glob(pattern_load)\n",
    "\n",
    "# Read each file into a DataFrame and store it in a list\n",
    "dfs_meta = [pd.read_csv(file) for file in files_meta]\n",
    "dfs_load = [pd.read_csv(file) for file in files_load]\n",
    "\n",
    "# Concatenate all DataFrames in the list into a single DataFrame\n",
    "df_meta = pd.concat(dfs_meta, ignore_index=True)\n",
    "df_load = pd.concat(dfs_load, ignore_index=True)"
   ]
  },
  {
   "cell_type": "code",
   "execution_count": 100,
   "metadata": {},
   "outputs": [
    {
     "data": {
      "text/html": [
       "<div>\n",
       "<style scoped>\n",
       "    .dataframe tbody tr th:only-of-type {\n",
       "        vertical-align: middle;\n",
       "    }\n",
       "\n",
       "    .dataframe tbody tr th {\n",
       "        vertical-align: top;\n",
       "    }\n",
       "\n",
       "    .dataframe thead th {\n",
       "        text-align: right;\n",
       "    }\n",
       "</style>\n",
       "<table border=\"1\" class=\"dataframe\">\n",
       "  <thead>\n",
       "    <tr style=\"text-align: right;\">\n",
       "      <th></th>\n",
       "      <th>dataid</th>\n",
       "      <th>local_15min</th>\n",
       "      <th>air1</th>\n",
       "      <th>air2</th>\n",
       "      <th>air3</th>\n",
       "      <th>airwindowunit1</th>\n",
       "      <th>aquarium1</th>\n",
       "      <th>bathroom1</th>\n",
       "      <th>bathroom2</th>\n",
       "      <th>bedroom1</th>\n",
       "      <th>...</th>\n",
       "      <th>sumppump1</th>\n",
       "      <th>utilityroom1</th>\n",
       "      <th>venthood1</th>\n",
       "      <th>waterheater1</th>\n",
       "      <th>waterheater2</th>\n",
       "      <th>wellpump1</th>\n",
       "      <th>winecooler1</th>\n",
       "      <th>leg1v</th>\n",
       "      <th>leg2v</th>\n",
       "      <th>solar_total</th>\n",
       "    </tr>\n",
       "  </thead>\n",
       "  <tbody>\n",
       "    <tr>\n",
       "      <th>0</th>\n",
       "      <td>3687</td>\n",
       "      <td>2014-01-01 00:00:00-06</td>\n",
       "      <td>0.0</td>\n",
       "      <td>NaN</td>\n",
       "      <td>NaN</td>\n",
       "      <td>NaN</td>\n",
       "      <td>NaN</td>\n",
       "      <td>NaN</td>\n",
       "      <td>NaN</td>\n",
       "      <td>NaN</td>\n",
       "      <td>...</td>\n",
       "      <td>NaN</td>\n",
       "      <td>NaN</td>\n",
       "      <td>NaN</td>\n",
       "      <td>NaN</td>\n",
       "      <td>NaN</td>\n",
       "      <td>NaN</td>\n",
       "      <td>NaN</td>\n",
       "      <td>120.239</td>\n",
       "      <td>119.769</td>\n",
       "      <td>NaN</td>\n",
       "    </tr>\n",
       "    <tr>\n",
       "      <th>1</th>\n",
       "      <td>3687</td>\n",
       "      <td>2014-01-01 00:15:00-06</td>\n",
       "      <td>0.0</td>\n",
       "      <td>NaN</td>\n",
       "      <td>NaN</td>\n",
       "      <td>NaN</td>\n",
       "      <td>NaN</td>\n",
       "      <td>NaN</td>\n",
       "      <td>NaN</td>\n",
       "      <td>NaN</td>\n",
       "      <td>...</td>\n",
       "      <td>NaN</td>\n",
       "      <td>NaN</td>\n",
       "      <td>NaN</td>\n",
       "      <td>NaN</td>\n",
       "      <td>NaN</td>\n",
       "      <td>NaN</td>\n",
       "      <td>NaN</td>\n",
       "      <td>120.256</td>\n",
       "      <td>119.628</td>\n",
       "      <td>NaN</td>\n",
       "    </tr>\n",
       "    <tr>\n",
       "      <th>2</th>\n",
       "      <td>3687</td>\n",
       "      <td>2014-01-01 00:30:00-06</td>\n",
       "      <td>0.0</td>\n",
       "      <td>NaN</td>\n",
       "      <td>NaN</td>\n",
       "      <td>NaN</td>\n",
       "      <td>NaN</td>\n",
       "      <td>NaN</td>\n",
       "      <td>NaN</td>\n",
       "      <td>NaN</td>\n",
       "      <td>...</td>\n",
       "      <td>NaN</td>\n",
       "      <td>NaN</td>\n",
       "      <td>NaN</td>\n",
       "      <td>NaN</td>\n",
       "      <td>NaN</td>\n",
       "      <td>NaN</td>\n",
       "      <td>NaN</td>\n",
       "      <td>120.358</td>\n",
       "      <td>119.859</td>\n",
       "      <td>NaN</td>\n",
       "    </tr>\n",
       "    <tr>\n",
       "      <th>3</th>\n",
       "      <td>3687</td>\n",
       "      <td>2014-01-01 00:45:00-06</td>\n",
       "      <td>0.0</td>\n",
       "      <td>NaN</td>\n",
       "      <td>NaN</td>\n",
       "      <td>NaN</td>\n",
       "      <td>NaN</td>\n",
       "      <td>NaN</td>\n",
       "      <td>NaN</td>\n",
       "      <td>NaN</td>\n",
       "      <td>...</td>\n",
       "      <td>NaN</td>\n",
       "      <td>NaN</td>\n",
       "      <td>NaN</td>\n",
       "      <td>NaN</td>\n",
       "      <td>NaN</td>\n",
       "      <td>NaN</td>\n",
       "      <td>NaN</td>\n",
       "      <td>120.766</td>\n",
       "      <td>119.985</td>\n",
       "      <td>NaN</td>\n",
       "    </tr>\n",
       "    <tr>\n",
       "      <th>4</th>\n",
       "      <td>3687</td>\n",
       "      <td>2014-01-01 01:00:00-06</td>\n",
       "      <td>0.0</td>\n",
       "      <td>NaN</td>\n",
       "      <td>NaN</td>\n",
       "      <td>NaN</td>\n",
       "      <td>NaN</td>\n",
       "      <td>NaN</td>\n",
       "      <td>NaN</td>\n",
       "      <td>NaN</td>\n",
       "      <td>...</td>\n",
       "      <td>NaN</td>\n",
       "      <td>NaN</td>\n",
       "      <td>NaN</td>\n",
       "      <td>NaN</td>\n",
       "      <td>NaN</td>\n",
       "      <td>NaN</td>\n",
       "      <td>NaN</td>\n",
       "      <td>120.844</td>\n",
       "      <td>120.368</td>\n",
       "      <td>NaN</td>\n",
       "    </tr>\n",
       "  </tbody>\n",
       "</table>\n",
       "<p>5 rows × 80 columns</p>\n",
       "</div>"
      ],
      "text/plain": [
       "   dataid             local_15min  air1  air2  air3  airwindowunit1  \\\n",
       "0    3687  2014-01-01 00:00:00-06   0.0   NaN   NaN             NaN   \n",
       "1    3687  2014-01-01 00:15:00-06   0.0   NaN   NaN             NaN   \n",
       "2    3687  2014-01-01 00:30:00-06   0.0   NaN   NaN             NaN   \n",
       "3    3687  2014-01-01 00:45:00-06   0.0   NaN   NaN             NaN   \n",
       "4    3687  2014-01-01 01:00:00-06   0.0   NaN   NaN             NaN   \n",
       "\n",
       "   aquarium1  bathroom1  bathroom2  bedroom1  ...  sumppump1  utilityroom1  \\\n",
       "0        NaN        NaN        NaN       NaN  ...        NaN           NaN   \n",
       "1        NaN        NaN        NaN       NaN  ...        NaN           NaN   \n",
       "2        NaN        NaN        NaN       NaN  ...        NaN           NaN   \n",
       "3        NaN        NaN        NaN       NaN  ...        NaN           NaN   \n",
       "4        NaN        NaN        NaN       NaN  ...        NaN           NaN   \n",
       "\n",
       "   venthood1  waterheater1  waterheater2  wellpump1  winecooler1    leg1v  \\\n",
       "0        NaN           NaN           NaN        NaN          NaN  120.239   \n",
       "1        NaN           NaN           NaN        NaN          NaN  120.256   \n",
       "2        NaN           NaN           NaN        NaN          NaN  120.358   \n",
       "3        NaN           NaN           NaN        NaN          NaN  120.766   \n",
       "4        NaN           NaN           NaN        NaN          NaN  120.844   \n",
       "\n",
       "     leg2v  solar_total  \n",
       "0  119.769          NaN  \n",
       "1  119.628          NaN  \n",
       "2  119.859          NaN  \n",
       "3  119.985          NaN  \n",
       "4  120.368          NaN  \n",
       "\n",
       "[5 rows x 80 columns]"
      ]
     },
     "execution_count": 100,
     "metadata": {},
     "output_type": "execute_result"
    }
   ],
   "source": [
    "df_load.head()"
   ]
  },
  {
   "cell_type": "code",
   "execution_count": 56,
   "metadata": {},
   "outputs": [
    {
     "data": {
      "text/plain": [
       "Index(['dataid', 'local_15min', 'air1', 'air2', 'air3', 'airwindowunit1',\n",
       "       'aquarium1', 'bathroom1', 'bathroom2', 'bedroom1', 'bedroom2',\n",
       "       'bedroom3', 'bedroom4', 'bedroom5', 'battery1', 'car1', 'car2',\n",
       "       'circpump1', 'clotheswasher1', 'clotheswasher_dryg1', 'diningroom1',\n",
       "       'diningroom2', 'dishwasher1', 'disposal1', 'drye1', 'dryg1', 'freezer1',\n",
       "       'furnace1', 'furnace2', 'garage1', 'garage2', 'grid', 'heater1',\n",
       "       'heater2', 'heater3', 'housefan1', 'icemaker1', 'jacuzzi1', 'kitchen1',\n",
       "       'kitchen2', 'kitchenapp1', 'kitchenapp2', 'lights_plugs1',\n",
       "       'lights_plugs2', 'lights_plugs3', 'lights_plugs4', 'lights_plugs5',\n",
       "       'lights_plugs6', 'livingroom1', 'livingroom2', 'microwave1', 'office1',\n",
       "       'outsidelights_plugs1', 'outsidelights_plugs2', 'oven1', 'oven2',\n",
       "       'pool1', 'pool2', 'poollight1', 'poolpump1', 'pump1', 'range1',\n",
       "       'refrigerator1', 'refrigerator2', 'security1', 'sewerpump1', 'shed1',\n",
       "       'solar', 'solar2', 'sprinkler1', 'sumppump1', 'utilityroom1',\n",
       "       'venthood1', 'waterheater1', 'waterheater2', 'wellpump1', 'winecooler1',\n",
       "       'leg1v', 'leg2v', 'solar_total'],\n",
       "      dtype='object')"
      ]
     },
     "execution_count": 56,
     "metadata": {},
     "output_type": "execute_result"
    }
   ],
   "source": [
    "df_load.columns"
   ]
  },
  {
   "cell_type": "code",
   "execution_count": 57,
   "metadata": {},
   "outputs": [
    {
     "data": {
      "text/plain": [
       "dataid\n",
       "27      17663\n",
       "142     17664\n",
       "203     35036\n",
       "387     17664\n",
       "558     17664\n",
       "        ...  \n",
       "9278    32555\n",
       "9612    35036\n",
       "9775    35132\n",
       "9836    34364\n",
       "9922    33544\n",
       "Name: grid, Length: 73, dtype: int64"
      ]
     },
     "execution_count": 57,
     "metadata": {},
     "output_type": "execute_result"
    }
   ],
   "source": [
    "df_load.groupby('dataid')['grid'].count()"
   ]
  },
  {
   "cell_type": "code",
   "execution_count": 58,
   "metadata": {},
   "outputs": [],
   "source": [
    "# find same number of households with and without solar\n",
    "id_load=df_load.dataid.drop_duplicates().tolist()\n",
    "id_load_str_list = [str(i) for i in id_load]\n",
    "meta=df_meta[df_meta.dataid.isin(id_load_str_list)]"
   ]
  },
  {
   "cell_type": "code",
   "execution_count": 59,
   "metadata": {},
   "outputs": [
    {
     "name": "stderr",
     "output_type": "stream",
     "text": [
      "/var/folders/nw/mcnt68y90w95hyv4qnvmt2wm0000gn/T/ipykernel_46843/2885737417.py:1: SettingWithCopyWarning: \n",
      "A value is trying to be set on a copy of a slice from a DataFrame.\n",
      "Try using .loc[row_indexer,col_indexer] = value instead\n",
      "\n",
      "See the caveats in the documentation: https://pandas.pydata.org/pandas-docs/stable/user_guide/indexing.html#returning-a-view-versus-a-copy\n",
      "  meta['has_pv'] = np.where((meta['solar'] == 'yes')|(meta['solar2']== 'yes'), 'yes', 'no')\n"
     ]
    }
   ],
   "source": [
    "meta['has_pv'] = np.where((meta['solar'] == 'yes')|(meta['solar2']== 'yes'), 'yes', 'no')"
   ]
  },
  {
   "cell_type": "code",
   "execution_count": 60,
   "metadata": {},
   "outputs": [],
   "source": [
    "yes_count = meta['has_pv'].value_counts().get('yes', 0)\n",
    "no_count = meta['has_pv'].value_counts().get('no', 0)"
   ]
  },
  {
   "cell_type": "code",
   "execution_count": 61,
   "metadata": {},
   "outputs": [],
   "source": [
    "excess = abs(yes_count - no_count) \n",
    "value_to_remove = 'yes' if yes_count > no_count else 'no'"
   ]
  },
  {
   "cell_type": "code",
   "execution_count": 62,
   "metadata": {},
   "outputs": [],
   "source": [
    "if excess > 0:\n",
    "    indices_to_remove = meta.index[meta['has_pv'] == value_to_remove].tolist()[:excess]\n",
    "    meta_equal = meta.drop(indices_to_remove)"
   ]
  },
  {
   "cell_type": "code",
   "execution_count": 63,
   "metadata": {},
   "outputs": [
    {
     "data": {
      "text/plain": [
       "has_pv\n",
       "no     34\n",
       "yes    34\n",
       "Name: count, dtype: int64"
      ]
     },
     "execution_count": 63,
     "metadata": {},
     "output_type": "execute_result"
    }
   ],
   "source": [
    "meta_equal['has_pv'].value_counts()"
   ]
  },
  {
   "cell_type": "code",
   "execution_count": 64,
   "metadata": {},
   "outputs": [],
   "source": [
    "df_load['solar_total']=df_load['solar'].fillna(0)+df_load['solar2'].fillna(0)\n",
    "both_nan = df_load['solar'].isna() & df_load['solar2'].isna()\n",
    "df_load.loc[both_nan, 'solar_total'] = np.nan\n"
   ]
  },
  {
   "cell_type": "code",
   "execution_count": 66,
   "metadata": {},
   "outputs": [],
   "source": [
    "df_load_test=df_load[['dataid','local_15min','solar_total','grid']]\n",
    "df_load_test=df_load_test.sort_values(by=['dataid','local_15min'])"
   ]
  },
  {
   "cell_type": "code",
   "execution_count": null,
   "metadata": {},
   "outputs": [],
   "source": [
    "# select the households for testing\n",
    "id_list=meta_equal['dataid'].astype('int')\n",
    "df_load_test_final=df_load_test[df_load_test.dataid.isin(id_list)]"
   ]
  },
  {
   "cell_type": "code",
   "execution_count": 67,
   "metadata": {},
   "outputs": [
    {
     "data": {
      "text/plain": [
       "0          3687\n",
       "35036      6377\n",
       "70072      7062\n",
       "140144     9213\n",
       "175180      203\n",
       "           ... \n",
       "1678890      27\n",
       "1678906     142\n",
       "1678910     914\n",
       "1678918    2096\n",
       "1679226    1240\n",
       "Name: dataid, Length: 68, dtype: int64"
      ]
     },
     "execution_count": 67,
     "metadata": {},
     "output_type": "execute_result"
    }
   ],
   "source": [
    "df_load_test_final.dataid.drop_duplicates()"
   ]
  },
  {
   "cell_type": "code",
   "execution_count": 49,
   "metadata": {},
   "outputs": [],
   "source": [
    "#df_load_test_final.to_csv('15min_pecan_34pv_34nonpv.csv')\n",
    "#meta_equal.to_csv('meta_pecan_34pv_34nonpv.csv')"
   ]
  },
  {
   "cell_type": "code",
   "execution_count": 164,
   "metadata": {},
   "outputs": [],
   "source": [
    "# check missing values \n",
    "df_check=pd.read_csv('/Users/jq279/capstone/pecan/15min_pecan_34pv_34nonpv.csv')\n",
    "df_meta_check=pd.read_csv('/Users/jq279/capstone/pecan/meta_pecan_34pv_34nonpv.csv')"
   ]
  },
  {
   "cell_type": "code",
   "execution_count": 165,
   "metadata": {},
   "outputs": [
    {
     "data": {
      "text/html": [
       "<div>\n",
       "<style scoped>\n",
       "    .dataframe tbody tr th:only-of-type {\n",
       "        vertical-align: middle;\n",
       "    }\n",
       "\n",
       "    .dataframe tbody tr th {\n",
       "        vertical-align: top;\n",
       "    }\n",
       "\n",
       "    .dataframe thead th {\n",
       "        text-align: right;\n",
       "    }\n",
       "</style>\n",
       "<table border=\"1\" class=\"dataframe\">\n",
       "  <thead>\n",
       "    <tr style=\"text-align: right;\">\n",
       "      <th></th>\n",
       "      <th>dataid</th>\n",
       "      <th>solar_missing</th>\n",
       "      <th>has_pv</th>\n",
       "    </tr>\n",
       "  </thead>\n",
       "  <tbody>\n",
       "    <tr>\n",
       "      <th>0</th>\n",
       "      <td>27</td>\n",
       "      <td>0</td>\n",
       "      <td>yes</td>\n",
       "    </tr>\n",
       "    <tr>\n",
       "      <th>1</th>\n",
       "      <td>142</td>\n",
       "      <td>0</td>\n",
       "      <td>yes</td>\n",
       "    </tr>\n",
       "    <tr>\n",
       "      <th>2</th>\n",
       "      <td>203</td>\n",
       "      <td>35036</td>\n",
       "      <td>no</td>\n",
       "    </tr>\n",
       "    <tr>\n",
       "      <th>3</th>\n",
       "      <td>387</td>\n",
       "      <td>0</td>\n",
       "      <td>yes</td>\n",
       "    </tr>\n",
       "    <tr>\n",
       "      <th>4</th>\n",
       "      <td>558</td>\n",
       "      <td>17664</td>\n",
       "      <td>no</td>\n",
       "    </tr>\n",
       "    <tr>\n",
       "      <th>...</th>\n",
       "      <td>...</td>\n",
       "      <td>...</td>\n",
       "      <td>...</td>\n",
       "    </tr>\n",
       "    <tr>\n",
       "      <th>63</th>\n",
       "      <td>9278</td>\n",
       "      <td>2480</td>\n",
       "      <td>yes</td>\n",
       "    </tr>\n",
       "    <tr>\n",
       "      <th>64</th>\n",
       "      <td>9612</td>\n",
       "      <td>35036</td>\n",
       "      <td>no</td>\n",
       "    </tr>\n",
       "    <tr>\n",
       "      <th>65</th>\n",
       "      <td>9775</td>\n",
       "      <td>35132</td>\n",
       "      <td>no</td>\n",
       "    </tr>\n",
       "    <tr>\n",
       "      <th>66</th>\n",
       "      <td>9836</td>\n",
       "      <td>0</td>\n",
       "      <td>yes</td>\n",
       "    </tr>\n",
       "    <tr>\n",
       "      <th>67</th>\n",
       "      <td>9922</td>\n",
       "      <td>35036</td>\n",
       "      <td>no</td>\n",
       "    </tr>\n",
       "  </tbody>\n",
       "</table>\n",
       "<p>68 rows × 3 columns</p>\n",
       "</div>"
      ],
      "text/plain": [
       "    dataid  solar_missing has_pv\n",
       "0       27              0    yes\n",
       "1      142              0    yes\n",
       "2      203          35036     no\n",
       "3      387              0    yes\n",
       "4      558          17664     no\n",
       "..     ...            ...    ...\n",
       "63    9278           2480    yes\n",
       "64    9612          35036     no\n",
       "65    9775          35132     no\n",
       "66    9836              0    yes\n",
       "67    9922          35036     no\n",
       "\n",
       "[68 rows x 3 columns]"
      ]
     },
     "execution_count": 165,
     "metadata": {},
     "output_type": "execute_result"
    }
   ],
   "source": [
    "# check missing values\n",
    "df_count_missing_NL=df_check.groupby('dataid')['grid'].apply(lambda x: x.isna().sum()).reset_index()\n",
    "df_count_missing_PV=df_check.groupby('dataid')['solar_total'].apply(lambda x: x.isna().sum()).reset_index()\n",
    "df_count_missing_PV=df_count_missing_PV.merge(meta[['dataid','has_pv']],how='inner',on='dataid')\n",
    "\n",
    "df_count_missing_NL.rename(columns={'grid': 'grid_missing'}, inplace=True)\n",
    "df_count_missing_PV.rename(columns={'solar_total': 'solar_missing'}, inplace=True)\n",
    "\n",
    "df_count_missing_PV\n",
    "\n",
    "\n",
    "\n",
    "#df_count_missing=df_count_missing_NL.merge(df_count_missing_PV,on='dataid')\n",
    "#df_count_missing.to_csv('chek.csv')\n"
   ]
  },
  {
   "cell_type": "code",
   "execution_count": 166,
   "metadata": {},
   "outputs": [
    {
     "data": {
      "text/plain": [
       "<AxesSubplot:>"
      ]
     },
     "execution_count": 166,
     "metadata": {},
     "output_type": "execute_result"
    },
    {
     "data": {
      "image/png": "[encoded data removed]",
      "text/plain": [
       "<Figure size 432x288 with 1 Axes>"
      ]
     },
     "metadata": {
      "needs_background": "light"
     },
     "output_type": "display_data"
    }
   ],
   "source": [
    "#check household 914\n",
    "df_27=df_check.loc[df_check['dataid']==27,]\n",
    "df_27.grid.plot()"
   ]
  },
  {
   "cell_type": "code",
   "execution_count": 181,
   "metadata": {},
   "outputs": [],
   "source": [
    "start_dates = df_check.groupby('dataid')['local_15min'].min().reset_index()\n",
    "end_dates = df_check.groupby('dataid')['local_15min'].max().reset_index()"
   ]
  },
  {
   "cell_type": "code",
   "execution_count": 182,
   "metadata": {},
   "outputs": [],
   "source": [
    "date_range=start_dates.merge(end_dates,how='inner',on='dataid')"
   ]
  },
  {
   "cell_type": "code",
   "execution_count": 183,
   "metadata": {},
   "outputs": [
    {
     "data": {
      "text/html": [
       "<div>\n",
       "<style scoped>\n",
       "    .dataframe tbody tr th:only-of-type {\n",
       "        vertical-align: middle;\n",
       "    }\n",
       "\n",
       "    .dataframe tbody tr th {\n",
       "        vertical-align: top;\n",
       "    }\n",
       "\n",
       "    .dataframe thead th {\n",
       "        text-align: right;\n",
       "    }\n",
       "</style>\n",
       "<table border=\"1\" class=\"dataframe\">\n",
       "  <thead>\n",
       "    <tr style=\"text-align: right;\">\n",
       "      <th></th>\n",
       "      <th>dataid</th>\n",
       "      <th>local_15min_x</th>\n",
       "      <th>local_15min_y</th>\n",
       "    </tr>\n",
       "  </thead>\n",
       "  <tbody>\n",
       "    <tr>\n",
       "      <th>0</th>\n",
       "      <td>27</td>\n",
       "      <td>2019-05-01 00:00:00-05</td>\n",
       "      <td>2019-10-31 23:45:00-05</td>\n",
       "    </tr>\n",
       "    <tr>\n",
       "      <th>1</th>\n",
       "      <td>142</td>\n",
       "      <td>2019-05-01 00:00:00-05</td>\n",
       "      <td>2019-10-31 23:45:00-05</td>\n",
       "    </tr>\n",
       "    <tr>\n",
       "      <th>2</th>\n",
       "      <td>203</td>\n",
       "      <td>2015-01-01 00:00:00-06</td>\n",
       "      <td>2015-12-31 23:45:00-06</td>\n",
       "    </tr>\n",
       "    <tr>\n",
       "      <th>3</th>\n",
       "      <td>387</td>\n",
       "      <td>2019-05-01 00:00:00-05</td>\n",
       "      <td>2019-10-31 23:45:00-05</td>\n",
       "    </tr>\n",
       "    <tr>\n",
       "      <th>4</th>\n",
       "      <td>558</td>\n",
       "      <td>2019-05-01 00:00:00-05</td>\n",
       "      <td>2019-10-31 23:45:00-05</td>\n",
       "    </tr>\n",
       "  </tbody>\n",
       "</table>\n",
       "</div>"
      ],
      "text/plain": [
       "   dataid           local_15min_x           local_15min_y\n",
       "0      27  2019-05-01 00:00:00-05  2019-10-31 23:45:00-05\n",
       "1     142  2019-05-01 00:00:00-05  2019-10-31 23:45:00-05\n",
       "2     203  2015-01-01 00:00:00-06  2015-12-31 23:45:00-06\n",
       "3     387  2019-05-01 00:00:00-05  2019-10-31 23:45:00-05\n",
       "4     558  2019-05-01 00:00:00-05  2019-10-31 23:45:00-05"
      ]
     },
     "execution_count": 183,
     "metadata": {},
     "output_type": "execute_result"
    }
   ],
   "source": [
    "date_range.head()"
   ]
  },
  {
   "cell_type": "code",
   "execution_count": 184,
   "metadata": {},
   "outputs": [],
   "source": [
    "date_range.columns=['dataid','local_15min_start_date','local_15min_end_date']"
   ]
  },
  {
   "cell_type": "code",
   "execution_count": 185,
   "metadata": {},
   "outputs": [
    {
     "data": {
      "text/plain": [
       "0     2019-05-01 00:00:00-05\n",
       "1     2019-05-01 00:00:00-05\n",
       "2     2015-01-01 00:00:00-06\n",
       "3     2019-05-01 00:00:00-05\n",
       "4     2019-05-01 00:00:00-05\n",
       "               ...          \n",
       "63    2018-01-01 00:00:00-06\n",
       "64    2014-03-01 00:00:00-06\n",
       "65    2016-01-01 00:00:00-06\n",
       "66    2014-07-08 00:00:00-05\n",
       "67    2018-01-01 00:00:00-06\n",
       "Name: local_15min_start_date, Length: 68, dtype: object"
      ]
     },
     "execution_count": 185,
     "metadata": {},
     "output_type": "execute_result"
    }
   ],
   "source": [
    "date_range['local_15min_start_date']"
   ]
  },
  {
   "cell_type": "markdown",
   "metadata": {},
   "source": []
  },
  {
   "cell_type": "code",
   "execution_count": 186,
   "metadata": {},
   "outputs": [],
   "source": [
    "# Ensure the dates are in datetime format, including timezone\n",
    "date_range['local_15min_start_date'] = pd.to_datetime(date_range['local_15min_start_date'], utc=True)\n",
    "date_range['local_15min_end_date'] = pd.to_datetime(date_range['local_15min_end_date'], utc=True)\n",
    "\n",
    "# Calculate the number of days between the start and end dates\n",
    "date_range['days_in_between'] = (date_range['local_15min_end_date'] - date_range['local_15min_start_date']).dt.days +1\n",
    "date_range['intervals_full'] =date_range['days_in_between']*96"
   ]
  },
  {
   "cell_type": "code",
   "execution_count": 187,
   "metadata": {},
   "outputs": [],
   "source": [
    "df_count_NL=df_check.groupby('dataid')['grid'].count().reset_index()\n",
    "df_count_PV=df_check.groupby('dataid')['solar_total'].count().reset_index()\n",
    "\n",
    "df_count_NL.rename(columns={'grid': 'grid_total_record'}, inplace=True)\n",
    "df_count_PV.rename(columns={'solar_total': 'grid_total_record'}, inplace=True)"
   ]
  },
  {
   "cell_type": "code",
   "execution_count": 174,
   "metadata": {},
   "outputs": [],
   "source": [
    "meta_info_needed=meta[['dataid','city','state']]"
   ]
  },
  {
   "cell_type": "code",
   "execution_count": 188,
   "metadata": {},
   "outputs": [],
   "source": [
    "from functools import reduce\n",
    "# List of DataFrames to merge\n",
    "dfs = [date_range, df_count_NL, df_count_PV,df_count_missing_NL ,df_count_missing_PV,meta_info_needed]\n",
    "\n",
    "# Use reduce to merge all DataFrames on the 'key' column\n",
    "merged_df = reduce(lambda left, right: pd.merge(left, right, on='dataid', how='inner'), dfs)\n"
   ]
  },
  {
   "cell_type": "code",
   "execution_count": 189,
   "metadata": {},
   "outputs": [
    {
     "data": {
      "text/html": [
       "<div>\n",
       "<style scoped>\n",
       "    .dataframe tbody tr th:only-of-type {\n",
       "        vertical-align: middle;\n",
       "    }\n",
       "\n",
       "    .dataframe tbody tr th {\n",
       "        vertical-align: top;\n",
       "    }\n",
       "\n",
       "    .dataframe thead th {\n",
       "        text-align: right;\n",
       "    }\n",
       "</style>\n",
       "<table border=\"1\" class=\"dataframe\">\n",
       "  <thead>\n",
       "    <tr style=\"text-align: right;\">\n",
       "      <th></th>\n",
       "      <th>dataid</th>\n",
       "      <th>local_15min_start_date</th>\n",
       "      <th>local_15min_end_date</th>\n",
       "      <th>days_in_between</th>\n",
       "      <th>intervals_full</th>\n",
       "      <th>grid_total_record_x</th>\n",
       "      <th>grid_total_record_y</th>\n",
       "      <th>grid_missing</th>\n",
       "      <th>solar_missing</th>\n",
       "      <th>has_pv</th>\n",
       "      <th>city</th>\n",
       "      <th>state</th>\n",
       "    </tr>\n",
       "  </thead>\n",
       "  <tbody>\n",
       "    <tr>\n",
       "      <th>0</th>\n",
       "      <td>27</td>\n",
       "      <td>2019-05-01 05:00:00+00:00</td>\n",
       "      <td>2019-11-01 04:45:00+00:00</td>\n",
       "      <td>184</td>\n",
       "      <td>17664</td>\n",
       "      <td>17663</td>\n",
       "      <td>17663</td>\n",
       "      <td>0</td>\n",
       "      <td>0</td>\n",
       "      <td>yes</td>\n",
       "      <td>Brooktondale</td>\n",
       "      <td>New York</td>\n",
       "    </tr>\n",
       "    <tr>\n",
       "      <th>1</th>\n",
       "      <td>142</td>\n",
       "      <td>2019-05-01 05:00:00+00:00</td>\n",
       "      <td>2019-11-01 04:45:00+00:00</td>\n",
       "      <td>184</td>\n",
       "      <td>17664</td>\n",
       "      <td>17664</td>\n",
       "      <td>17664</td>\n",
       "      <td>0</td>\n",
       "      <td>0</td>\n",
       "      <td>yes</td>\n",
       "      <td>Trumansburg</td>\n",
       "      <td>New York</td>\n",
       "    </tr>\n",
       "    <tr>\n",
       "      <th>2</th>\n",
       "      <td>203</td>\n",
       "      <td>2015-01-01 06:00:00+00:00</td>\n",
       "      <td>2016-01-01 05:45:00+00:00</td>\n",
       "      <td>365</td>\n",
       "      <td>35040</td>\n",
       "      <td>35036</td>\n",
       "      <td>0</td>\n",
       "      <td>0</td>\n",
       "      <td>35036</td>\n",
       "      <td>no</td>\n",
       "      <td>San Diego</td>\n",
       "      <td>California</td>\n",
       "    </tr>\n",
       "    <tr>\n",
       "      <th>3</th>\n",
       "      <td>387</td>\n",
       "      <td>2019-05-01 05:00:00+00:00</td>\n",
       "      <td>2019-11-01 04:45:00+00:00</td>\n",
       "      <td>184</td>\n",
       "      <td>17664</td>\n",
       "      <td>17664</td>\n",
       "      <td>17664</td>\n",
       "      <td>0</td>\n",
       "      <td>0</td>\n",
       "      <td>yes</td>\n",
       "      <td>Ithaca</td>\n",
       "      <td>New York</td>\n",
       "    </tr>\n",
       "    <tr>\n",
       "      <th>4</th>\n",
       "      <td>558</td>\n",
       "      <td>2019-05-01 05:00:00+00:00</td>\n",
       "      <td>2019-11-01 04:45:00+00:00</td>\n",
       "      <td>184</td>\n",
       "      <td>17664</td>\n",
       "      <td>17664</td>\n",
       "      <td>0</td>\n",
       "      <td>0</td>\n",
       "      <td>17664</td>\n",
       "      <td>no</td>\n",
       "      <td>Ithaca</td>\n",
       "      <td>New York</td>\n",
       "    </tr>\n",
       "    <tr>\n",
       "      <th>...</th>\n",
       "      <td>...</td>\n",
       "      <td>...</td>\n",
       "      <td>...</td>\n",
       "      <td>...</td>\n",
       "      <td>...</td>\n",
       "      <td>...</td>\n",
       "      <td>...</td>\n",
       "      <td>...</td>\n",
       "      <td>...</td>\n",
       "      <td>...</td>\n",
       "      <td>...</td>\n",
       "      <td>...</td>\n",
       "    </tr>\n",
       "    <tr>\n",
       "      <th>63</th>\n",
       "      <td>9278</td>\n",
       "      <td>2018-01-01 06:00:00+00:00</td>\n",
       "      <td>2019-01-01 05:45:00+00:00</td>\n",
       "      <td>365</td>\n",
       "      <td>35040</td>\n",
       "      <td>32555</td>\n",
       "      <td>32555</td>\n",
       "      <td>2480</td>\n",
       "      <td>2480</td>\n",
       "      <td>yes</td>\n",
       "      <td>Austin</td>\n",
       "      <td>Texas</td>\n",
       "    </tr>\n",
       "    <tr>\n",
       "      <th>64</th>\n",
       "      <td>9612</td>\n",
       "      <td>2014-03-01 06:00:00+00:00</td>\n",
       "      <td>2015-03-01 05:45:00+00:00</td>\n",
       "      <td>365</td>\n",
       "      <td>35040</td>\n",
       "      <td>35036</td>\n",
       "      <td>0</td>\n",
       "      <td>0</td>\n",
       "      <td>35036</td>\n",
       "      <td>no</td>\n",
       "      <td>San Diego</td>\n",
       "      <td>California</td>\n",
       "    </tr>\n",
       "    <tr>\n",
       "      <th>65</th>\n",
       "      <td>9775</td>\n",
       "      <td>2016-01-01 06:00:00+00:00</td>\n",
       "      <td>2017-01-01 05:45:00+00:00</td>\n",
       "      <td>366</td>\n",
       "      <td>35136</td>\n",
       "      <td>35132</td>\n",
       "      <td>0</td>\n",
       "      <td>0</td>\n",
       "      <td>35132</td>\n",
       "      <td>no</td>\n",
       "      <td>San Diego</td>\n",
       "      <td>California</td>\n",
       "    </tr>\n",
       "    <tr>\n",
       "      <th>66</th>\n",
       "      <td>9836</td>\n",
       "      <td>2014-07-08 05:00:00+00:00</td>\n",
       "      <td>2015-07-01 04:45:00+00:00</td>\n",
       "      <td>358</td>\n",
       "      <td>34368</td>\n",
       "      <td>34364</td>\n",
       "      <td>34364</td>\n",
       "      <td>0</td>\n",
       "      <td>0</td>\n",
       "      <td>yes</td>\n",
       "      <td>San Diego</td>\n",
       "      <td>California</td>\n",
       "    </tr>\n",
       "    <tr>\n",
       "      <th>67</th>\n",
       "      <td>9922</td>\n",
       "      <td>2018-01-01 06:00:00+00:00</td>\n",
       "      <td>2019-01-01 05:45:00+00:00</td>\n",
       "      <td>365</td>\n",
       "      <td>35040</td>\n",
       "      <td>33544</td>\n",
       "      <td>0</td>\n",
       "      <td>1492</td>\n",
       "      <td>35036</td>\n",
       "      <td>no</td>\n",
       "      <td>Austin</td>\n",
       "      <td>Texas</td>\n",
       "    </tr>\n",
       "  </tbody>\n",
       "</table>\n",
       "<p>68 rows × 12 columns</p>\n",
       "</div>"
      ],
      "text/plain": [
       "    dataid    local_15min_start_date      local_15min_end_date  \\\n",
       "0       27 2019-05-01 05:00:00+00:00 2019-11-01 04:45:00+00:00   \n",
       "1      142 2019-05-01 05:00:00+00:00 2019-11-01 04:45:00+00:00   \n",
       "2      203 2015-01-01 06:00:00+00:00 2016-01-01 05:45:00+00:00   \n",
       "3      387 2019-05-01 05:00:00+00:00 2019-11-01 04:45:00+00:00   \n",
       "4      558 2019-05-01 05:00:00+00:00 2019-11-01 04:45:00+00:00   \n",
       "..     ...                       ...                       ...   \n",
       "63    9278 2018-01-01 06:00:00+00:00 2019-01-01 05:45:00+00:00   \n",
       "64    9612 2014-03-01 06:00:00+00:00 2015-03-01 05:45:00+00:00   \n",
       "65    9775 2016-01-01 06:00:00+00:00 2017-01-01 05:45:00+00:00   \n",
       "66    9836 2014-07-08 05:00:00+00:00 2015-07-01 04:45:00+00:00   \n",
       "67    9922 2018-01-01 06:00:00+00:00 2019-01-01 05:45:00+00:00   \n",
       "\n",
       "    days_in_between  intervals_full  grid_total_record_x  grid_total_record_y  \\\n",
       "0               184           17664                17663                17663   \n",
       "1               184           17664                17664                17664   \n",
       "2               365           35040                35036                    0   \n",
       "3               184           17664                17664                17664   \n",
       "4               184           17664                17664                    0   \n",
       "..              ...             ...                  ...                  ...   \n",
       "63              365           35040                32555                32555   \n",
       "64              365           35040                35036                    0   \n",
       "65              366           35136                35132                    0   \n",
       "66              358           34368                34364                34364   \n",
       "67              365           35040                33544                    0   \n",
       "\n",
       "    grid_missing  solar_missing has_pv          city       state  \n",
       "0              0              0    yes  Brooktondale    New York  \n",
       "1              0              0    yes   Trumansburg    New York  \n",
       "2              0          35036     no     San Diego  California  \n",
       "3              0              0    yes        Ithaca    New York  \n",
       "4              0          17664     no        Ithaca    New York  \n",
       "..           ...            ...    ...           ...         ...  \n",
       "63          2480           2480    yes        Austin       Texas  \n",
       "64             0          35036     no     San Diego  California  \n",
       "65             0          35132     no     San Diego  California  \n",
       "66             0              0    yes     San Diego  California  \n",
       "67          1492          35036     no        Austin       Texas  \n",
       "\n",
       "[68 rows x 12 columns]"
      ]
     },
     "execution_count": 189,
     "metadata": {},
     "output_type": "execute_result"
    }
   ],
   "source": [
    "merged_df"
   ]
  },
  {
   "cell_type": "code",
   "execution_count": 190,
   "metadata": {},
   "outputs": [],
   "source": [
    "merged_df.to_csv('missing_data_check.csv')"
   ]
  }
 ],
 "metadata": {
  "kernelspec": {
   "display_name": "tf2",
   "language": "python",
   "name": "tf2"
  },
  "language_info": {
   "codemirror_mode": {
    "name": "ipython",
    "version": 3
   },
   "file_extension": ".py",
   "mimetype": "text/x-python",
   "name": "python",
   "nbconvert_exporter": "python",
   "pygments_lexer": "ipython3",
   "version": "3.9.7"
  },
  "orig_nbformat": 4
 },
 "nbformat": 4,
 "nbformat_minor": 2
}
