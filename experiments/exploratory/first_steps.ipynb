{
 "cells": [
  {
   "cell_type": "code",
   "execution_count": 1,
   "metadata": {},
   "outputs": [],
   "source": [
    "import os\n",
    "\n",
    "import pandas as pd\n",
    "import numpy as np\n",
    "\n",
    "import pyarrow.parquet as pq\n",
    "\n",
    "import torch\n",
    "import torch.nn.functional as F\n",
    "from torch.utils.data import Dataset, DataLoader"
   ]
  },
  {
   "cell_type": "code",
   "execution_count": 2,
   "metadata": {},
   "outputs": [],
   "source": [
    "class ResstockDataset(Dataset):\n",
    "    def __init__(self, basedir: str, filenames: list):\n",
    "        self.basedir = basedir\n",
    "        self.filenames = filenames\n",
    "        self.filepaths = [os.path.join(basedir, filename) for filename in filenames]\n",
    "        \n",
    "        self.metadatas = [pq.read_metadata(p) for p in self.filepaths]\n",
    "        \n",
    "        self.lengths = [metadata.num_rows for metadata in self.metadatas]\n",
    "        self.lengths_cumsum = np.cumsum(self.lengths)\n",
    "\n",
    "        self.col_names = [c.name for c in self.metadatas[0].schema]\n",
    "        \n",
    "        self.total_length = sum(self.lengths)\n",
    "\n",
    "        self.current_file_idx = None\n",
    "        self.current_table = None\n",
    "        \n",
    "    def __len__(self):\n",
    "        return self.total_length\n",
    "\n",
    "    def __getitem__(self, idx):\n",
    "        file_idx = np.searchsorted(self.lengths_cumsum, idx)\n",
    "\n",
    "        if file_idx == 0:\n",
    "            row_idx = idx\n",
    "        else:\n",
    "            row_idx = idx - self.lengths_cumsum[file_idx-1]\n",
    "\n",
    "        if file_idx != self.current_file_idx:\n",
    "            self.current_file_idx = file_idx\n",
    "            self.current_table = pd.read_parquet(self.filepaths[file_idx]).values.astype(np.float32)\n",
    "        \n",
    "        row = torch.from_numpy(self.current_table[row_idx, :])\n",
    "\n",
    "        t = row[3:6] # time features\n",
    "        \n",
    "        h = torch.concat(\n",
    "            (\n",
    "                F.one_hot(row[6].long(), num_classes=49), # states one-hot\n",
    "                F.one_hot(row[7].long(), num_classes=5), # building type one-hot\n",
    "                row[8:13], # rest of house features\n",
    "            ),\n",
    "            dim=0\n",
    "        )\n",
    "\n",
    "        x = row[13:109] # aggregate load\n",
    "        T = row[109:205] # temperature\n",
    "\n",
    "        y = row[205:].reshape(-1, 96) # individual load profiles (11, 96)\n",
    "\n",
    "        return t, h, x, T, y"
   ]
  },
  {
   "cell_type": "code",
   "execution_count": 3,
   "metadata": {},
   "outputs": [
    {
     "name": "stdout",
     "output_type": "stream",
     "text": [
      "t torch.Size([10, 3])\n",
      "h torch.Size([10, 59])\n",
      "x torch.Size([10, 96])\n",
      "T torch.Size([10, 96])\n",
      "\n",
      "y torch.Size([10, 11, 96])\n"
     ]
    }
   ],
   "source": [
    "BASEDIR = '/Users/darwish/Documents/Berkeley_Offline/W210/capstone/data/resstock/staged/20240227221540'\n",
    "BATCH_SIZE = 10\n",
    "\n",
    "train_dataset = ResstockDataset(BASEDIR, ['0.parquet', '1.parquet', '2.parquet', '3.parquet'])\n",
    "train_dataloader = DataLoader(train_dataset, batch_size=BATCH_SIZE, shuffle=True)\n",
    "\n",
    "val_dataset = ResstockDataset(BASEDIR, ['4.parquet'])\n",
    "val_dataloader = DataLoader(val_dataset, batch_size=BATCH_SIZE, shuffle=False)"
   ]
  },
  {
   "cell_type": "code",
   "execution_count": null,
   "metadata": {},
   "outputs": [],
   "source": [
    "t, h, x, T, y = next(iter(train_dataloader))\n",
    "\n",
    "print('t', t.shape)\n",
    "print('h', h.shape)\n",
    "print('x', x.shape)\n",
    "print('T', T.shape)\n",
    "print()\n",
    "print('y', y.shape)"
   ]
  }
 ],
 "metadata": {
  "kernelspec": {
   "display_name": ".venv",
   "language": "python",
   "name": "python3"
  },
  "language_info": {
   "codemirror_mode": {
    "name": "ipython",
    "version": 3
   },
   "file_extension": ".py",
   "mimetype": "text/x-python",
   "name": "python",
   "nbconvert_exporter": "python",
   "pygments_lexer": "ipython3",
   "version": "3.9.18"
  }
 },
 "nbformat": 4,
 "nbformat_minor": 2
}
