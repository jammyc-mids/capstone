import pandas as pd
import numpy as np



# Example DataFrame with a non-divisible number of IDs
np.random.seed(0)  # For reproducible random results
df = pd.DataFrame({'ID': np.random.permutation(100) + 1})  # Example with 100 IDs for illustration

# Shuffle the DataFrame
df = df.sample(frac=1).reset_index(drop=True)

# Calculate base bucket size and remainder
total_ids = len(df)
base_bucket_size, remainder = divmod(total_ids, 5)

# Assign initial buckets
df['Bucket'] = np.repeat(range(1, 6), base_bucket_size)

# If there's a remainder, randomly distribute it among the buckets
if remainder > 0:
    extra_buckets = np.random.choice(range(1, 6), size=remainder, replace=False)
    extra_assignments = pd.Series(extra_buckets).repeat(base_bucket_size + 1).values[:remainder]
    df.loc[df.index[-remainder:], 'Bucket'] = extra_assignments

# Optionally, shuffle the DataFrame again to mix the rows
df = df.sample(frac=1).reset_index(drop=True)

# Display the first few rows and the bucket distribution to verify
print(df.head())
print(df['Bucket'].value_counts())